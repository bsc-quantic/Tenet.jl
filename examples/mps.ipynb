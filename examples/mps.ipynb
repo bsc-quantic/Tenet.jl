{
 "cells": [
  {
   "cell_type": "markdown",
   "id": "2d6fa47a",
   "metadata": {},
   "source": [
    "# Matrix Product States"
   ]
  },
  {
   "cell_type": "code",
   "execution_count": 1,
   "id": "eed57697",
   "metadata": {},
   "outputs": [],
   "source": [
    "using Tenet"
   ]
  },
  {
   "cell_type": "markdown",
   "id": "e4c43767",
   "metadata": {},
   "source": [
    "In this example, we will be using the `MatrixProductState` or `MPS` type. In order to construct one, you can pass the arrays."
   ]
  },
  {
   "cell_type": "code",
   "execution_count": 2,
   "id": "f84caf9d",
   "metadata": {},
   "outputs": [
    {
     "data": {
      "text/plain": [
       "MatrixProductState (#tensors=3, #inds=5)"
      ]
     },
     "metadata": {},
     "output_type": "display_data"
    }
   ],
   "source": [
    "ψ = MPS([rand(ComplexF64, 2,2), rand(ComplexF64, 2, 2, 2), rand(ComplexF64, 2, 2)])"
   ]
  },
  {
   "cell_type": "markdown",
   "id": "4a618b36",
   "metadata": {},
   "source": [
    "`CanonicalForm` or `form` returns the canonical form trait. Note that since we added the arrays directly, and there is no information about the orthogonality center, `MixedCanonicalMPS` interprets it as if the orthogonality center spans all the sites."
   ]
  },
  {
   "cell_type": "code",
   "execution_count": 3,
   "id": "ff55bfae",
   "metadata": {},
   "outputs": [
    {
     "data": {
      "text/plain": [
       "MixedCanonical{Vector{Site}}(Site[(2,), (1,), (3,)])"
      ]
     },
     "metadata": {},
     "output_type": "display_data"
    }
   ],
   "source": [
    "form(ψ)"
   ]
  },
  {
   "cell_type": "markdown",
   "id": "08e949d8",
   "metadata": {},
   "source": [
    "In order to canonize it, you may call the `canonize!` function together with the `CanonicalForm` trait, which in this case should be `MixedCanonical(site_where_to_canonize)`."
   ]
  },
  {
   "cell_type": "code",
   "execution_count": 4,
   "id": "6095a3dd",
   "metadata": {},
   "outputs": [
    {
     "data": {
      "text/plain": [
       "MatrixProductState (#tensors=3, #inds=5)"
      ]
     },
     "metadata": {},
     "output_type": "display_data"
    }
   ],
   "source": [
    "canonize!(ψ, MixedCanonical(site\"1\"))"
   ]
  },
  {
   "cell_type": "code",
   "execution_count": 5,
   "id": "4ae3250d",
   "metadata": {},
   "outputs": [
    {
     "data": {
      "text/plain": [
       "MixedCanonical{CartesianSite{1}}((1,))"
      ]
     },
     "metadata": {},
     "output_type": "display_data"
    }
   ],
   "source": [
    "form(ψ)"
   ]
  },
  {
   "cell_type": "markdown",
   "id": "f552ca52",
   "metadata": {},
   "source": [
    "You can directly call `norm` and `normalize!` methods from `LinearAlgebra` too."
   ]
  },
  {
   "cell_type": "code",
   "execution_count": 6,
   "id": "f3be5ddd",
   "metadata": {},
   "outputs": [
    {
     "data": {
      "text/plain": [
       "4.312455962071073"
      ]
     },
     "metadata": {},
     "output_type": "display_data"
    }
   ],
   "source": [
    "norm(ψ)"
   ]
  },
  {
   "cell_type": "code",
   "execution_count": 7,
   "id": "beb0cf47",
   "metadata": {},
   "outputs": [
    {
     "data": {
      "text/plain": [
       "MatrixProductState (#tensors=3, #inds=5)"
      ]
     },
     "metadata": {},
     "output_type": "display_data"
    }
   ],
   "source": [
    "normalize!(ψ)"
   ]
  },
  {
   "cell_type": "code",
   "execution_count": 8,
   "id": "fcb44bc6",
   "metadata": {},
   "outputs": [
    {
     "data": {
      "text/plain": [
       "0.9999999999999999"
      ]
     },
     "metadata": {},
     "output_type": "display_data"
    }
   ],
   "source": [
    "norm(ψ)"
   ]
  },
  {
   "cell_type": "markdown",
   "id": "34d07691",
   "metadata": {},
   "source": [
    "Note that these methods may canonize or move the orthogonality center."
   ]
  },
  {
   "cell_type": "code",
   "execution_count": 9,
   "id": "a9a56836",
   "metadata": {},
   "outputs": [
    {
     "data": {
      "text/plain": [
       "MixedCanonical{Vector{Site}}(Site[(2,), (1,), (3,)])"
      ]
     },
     "metadata": {},
     "output_type": "display_data"
    }
   ],
   "source": [
    "canonize!(ψ, MixedCanonical(all_sites(ψ)))\n",
    "form(ψ)"
   ]
  },
  {
   "cell_type": "code",
   "execution_count": 10,
   "id": "a20abb73",
   "metadata": {},
   "outputs": [
    {
     "data": {
      "text/plain": [
       "MixedCanonical{CartesianSite{1}}((1,))"
      ]
     },
     "metadata": {},
     "output_type": "display_data"
    }
   ],
   "source": [
    "norm(ψ)\n",
    "form(ψ)"
   ]
  },
  {
   "cell_type": "markdown",
   "id": "5584663c",
   "metadata": {},
   "source": [
    "## Time evolution\n",
    "\n",
    "### Gate application using the \"Simple Update\" routine"
   ]
  },
  {
   "cell_type": "markdown",
   "id": "9a5bd536",
   "metadata": {},
   "source": [
    "In order to create an operator, you may use a regular `Tensor` but where the indices are `Index{Plug}`. This way, Tenet knows which `Tensor` indices connect with the `Tensor`s of the MPS."
   ]
  },
  {
   "cell_type": "code",
   "execution_count": 11,
   "id": "75df8d64",
   "metadata": {},
   "outputs": [
    {
     "data": {
      "text/plain": [
       "2×2×2×2 Tensor{ComplexF64, 4, Array{ComplexF64, 4}}:\n",
       "[:, :, 1, 1] =\n",
       " 0.913872+0.805562im  0.329382+0.934858im\n",
       " 0.688747+0.642765im  0.694356+0.662784im\n",
       "\n",
       "[:, :, 2, 1] =\n",
       " 0.415378+0.915594im  0.283779+0.0548586im\n",
       " 0.299637+0.447855im  0.207589+0.72196im\n",
       "\n",
       "[:, :, 1, 2] =\n",
       "  0.38512+0.441854im  0.489417+0.884673im\n",
       " 0.467067+0.453583im  0.967792+0.861111im\n",
       "\n",
       "[:, :, 2, 2] =\n",
       " 0.641606+0.281474im  0.729744+0.542118im\n",
       " 0.593045+0.633061im  0.849462+0.176387im"
      ]
     },
     "metadata": {},
     "output_type": "display_data"
    }
   ],
   "source": [
    "op = Tensor(rand(ComplexF64, 2, 2, 2, 2), [Index(plug\"2\"), Index(plug\"3\"), Index(plug\"2'\"), Index(plug\"3'\")])"
   ]
  },
  {
   "cell_type": "markdown",
   "id": "4ea7438c",
   "metadata": {},
   "source": [
    "In order to apply the operator, you can call the `simple_update!` function."
   ]
  },
  {
   "cell_type": "code",
   "execution_count": 12,
   "id": "5d00b08e",
   "metadata": {},
   "outputs": [
    {
     "data": {
      "text/plain": [
       "MatrixProductState (#tensors=3, #inds=5)"
      ]
     },
     "metadata": {},
     "output_type": "display_data"
    }
   ],
   "source": [
    "simple_update!(ψ, op)"
   ]
  },
  {
   "cell_type": "markdown",
   "id": "b202aadd",
   "metadata": {},
   "source": [
    "As with the `norm` and `normalize!` functions, it canonizes to the acting sites of the gate for numerical precision."
   ]
  },
  {
   "cell_type": "code",
   "execution_count": 13,
   "id": "c7e48f29",
   "metadata": {},
   "outputs": [
    {
     "data": {
      "text/plain": [
       "MixedCanonical{Vector{CartesianSite{1}}}(CartesianSite{1}[(2,), (3,)])"
      ]
     },
     "metadata": {},
     "output_type": "display_data"
    }
   ],
   "source": [
    "form(ψ)"
   ]
  },
  {
   "cell_type": "markdown",
   "id": "d0c0048b",
   "metadata": {},
   "source": [
    "### MPS-MPO contraction"
   ]
  },
  {
   "cell_type": "markdown",
   "id": "0ea10d56",
   "metadata": {},
   "source": [
    "In order to construct a `MatrixProductOperator` or `MPO`, you can directly pass the arrays or construct one random with `rand`."
   ]
  },
  {
   "cell_type": "code",
   "execution_count": 14,
   "id": "22dfc8bd",
   "metadata": {},
   "outputs": [
    {
     "data": {
      "text/plain": [
       "MatrixProductOperator (#tensors=3, #inds=8)"
      ]
     },
     "metadata": {},
     "output_type": "display_data"
    }
   ],
   "source": [
    "mpo = rand(MPO; n=3, maxdim=4)"
   ]
  },
  {
   "cell_type": "markdown",
   "id": "2306a842",
   "metadata": {},
   "source": [
    "In order to contract the MPS and the MPO, use the general purpose `evolve!` function."
   ]
  },
  {
   "cell_type": "code",
   "execution_count": 15,
   "id": "ef47feca",
   "metadata": {},
   "outputs": [
    {
     "data": {
      "text/plain": [
       "MatrixProductState (#tensors=3, #inds=5)"
      ]
     },
     "metadata": {},
     "output_type": "display_data"
    }
   ],
   "source": [
    "evolve!(ψ, mpo)"
   ]
  },
  {
   "cell_type": "markdown",
   "id": "e59ada23",
   "metadata": {},
   "source": [
    "Note that, currently, the bond dimension of the MPS increases with the evolution."
   ]
  },
  {
   "cell_type": "code",
   "execution_count": 16,
   "id": "6c7b8e1a",
   "metadata": {},
   "outputs": [
    {
     "name": "stdout",
     "output_type": "stream",
     "text": [
      "bond = (1,) <=> (2,) --> size = 8\n",
      "bond = (2,) <=> (3,) --> size = 8\n"
     ]
    }
   ],
   "source": [
    "for bond in all_bonds(ψ)\n",
    "    println(\"bond = $bond --> size = $(size(ψ, ind_at(ψ, bond)))\")\n",
    "end"
   ]
  },
  {
   "cell_type": "markdown",
   "id": "a98b6cbe",
   "metadata": {},
   "source": [
    "## Compression"
   ]
  },
  {
   "cell_type": "markdown",
   "id": "77ebf3d6",
   "metadata": {},
   "source": [
    "In order to reduce the size of the virtual bonds, you may use the `compress!` function. It accepts `maxdim` and `threshold` (which truncates based on `abs`olute value of the singular values) kwargs."
   ]
  },
  {
   "cell_type": "code",
   "execution_count": 17,
   "id": "5747a569",
   "metadata": {},
   "outputs": [
    {
     "ename": "ArgumentError",
     "evalue": "ArgumentError: `BackendBase` can't deal with hyperindices. Load OMEinsum and use `BackendOMEinsum` instead.\nisdisjoint(inds_c, inds_contract) must hold. Got\ninds_c => Index[index<(1,) <=> (2,)>, index<##tmp#261>]\ninds_contract => Index[index<##tmp#261>]",
     "output_type": "error",
     "traceback": [
      "ArgumentError: `BackendBase` can't deal with hyperindices. Load OMEinsum and use `BackendOMEinsum` instead.\n",
      "isdisjoint(inds_c, inds_contract) must hold. Got\n",
      "inds_c => Index[index<(1,) <=> (2,)>, index<##tmp#261>]\n",
      "inds_contract => Index[index<##tmp#261>]\n",
      "\n",
      "Stacktrace:\n",
      " [1] throw_check_error(info::Any)\n",
      "   @ ArgCheck ~/.julia/packages/ArgCheck/DaoPJ/src/checks.jl:283\n",
      " [2] binary_einsum(::Muscle.BackendBase, inds_c::Vector{Index}, a::Tensor{ComplexF64, 2, SubArray{ComplexF64, 2, Base.ReshapedArray{ComplexF64, 2, LinearAlgebra.Transpose{ComplexF64, Matrix{ComplexF64}}, Tuple{Base.MultiplicativeInverses.SignedMultiplicativeInverse{Int64}}}, Tuple{Base.Slice{Base.OneTo{Int64}}, UnitRange{Int64}}, false}}, b::Tensor{Float64, 1, SubArray{Float64, 1, Vector{Float64}, Tuple{UnitRange{Int64}}, true}})\n",
      "   @ Muscle ~/.julia/packages/Muscle/Vnviy/src/Operations/binary_einsum.jl:64\n",
      " [3] binary_einsum(a::Tensor{ComplexF64, 2, SubArray{ComplexF64, 2, Base.ReshapedArray{ComplexF64, 2, LinearAlgebra.Transpose{ComplexF64, Matrix{ComplexF64}}, Tuple{Base.MultiplicativeInverses.SignedMultiplicativeInverse{Int64}}}, Tuple{Base.Slice{Base.OneTo{Int64}}, UnitRange{Int64}}, false}}, b::Tensor{Float64, 1, SubArray{Float64, 1, Vector{Float64}, Tuple{UnitRange{Int64}}, true}}; dims::Vector{Index}, out::Nothing)\n",
      "   @ Muscle ~/.julia/packages/Muscle/Vnviy/src/Operations/binary_einsum.jl:40\n",
      " [4] compress!(ψ::MatrixProductState; maxdim::Int64, threshold::Nothing, kwargs::@Kwargs{})\n",
      "   @ Tenet ~/Developer/Tenet.jl/src/Operations/compress.jl:34\n",
      " [5] top-level scope\n",
      "   @ ~/Developer/Tenet.jl/examples/jl_notebook_cell_df34fa98e69747e1a8f8a730347b8e2f_X44sZmlsZQ==.jl:1"
     ]
    }
   ],
   "source": [
    "compress!(ψ; maxdim=4)"
   ]
  },
  {
   "cell_type": "code",
   "execution_count": 18,
   "id": "203d3000",
   "metadata": {},
   "outputs": [
    {
     "name": "stdout",
     "output_type": "stream",
     "text": [
      "bond = (1,) <=> (2,) --> size = 4\n",
      "bond = (2,) <=> (3,) --> size = 2\n"
     ]
    }
   ],
   "source": [
    "for bond in all_bonds(ψ)\n",
    "    println(\"bond = $bond --> size = $(size(ψ, ind_at(ψ, bond)))\")\n",
    "end"
   ]
  }
 ],
 "metadata": {
  "kernelspec": {
   "display_name": "Julia 1.11.5",
   "language": "julia",
   "name": "julia-1.11"
  },
  "language_info": {
   "file_extension": ".jl",
   "mimetype": "application/julia",
   "name": "julia",
   "version": "1.11.5"
  }
 },
 "nbformat": 4,
 "nbformat_minor": 5
}
