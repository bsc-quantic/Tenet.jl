{
 "cells": [
  {
   "cell_type": "markdown",
   "metadata": {},
   "source": [
    "# Reactant demo"
   ]
  },
  {
   "cell_type": "code",
   "execution_count": 1,
   "metadata": {},
   "outputs": [],
   "source": [
    "using Tenet\n",
    "using EinExprs\n",
    "using Reactant\n",
    "using AbstractTrees\n",
    "using Random\n",
    "using LinearAlgebra\n",
    "using Enzyme\n",
    "using Chairmarks\n",
    "using BenchmarkTools\n",
    "using Adapt\n",
    "BLAS.set_num_threads(1)"
   ]
  },
  {
   "cell_type": "code",
   "execution_count": 2,
   "metadata": {},
   "outputs": [
    {
     "data": {
      "text/plain": [
       "TensorNetwork (#tensors=15, #inds=22)"
      ]
     },
     "metadata": {},
     "output_type": "display_data"
    }
   ],
   "source": [
    "Random.seed!(0)\n",
    "tn = rand(TensorNetwork, 15, 3; dim=(16,16))"
   ]
  },
  {
   "cell_type": "code",
   "execution_count": 3,
   "metadata": {},
   "outputs": [
    {
     "data": {
      "text/plain": [
       "SizedEinExpr{Symbol}(EinExpr{Symbol}(Symbol[], EinExpr{Symbol}[EinExpr{Symbol}([:R], EinExpr{Symbol}[EinExpr{Symbol}([:K], EinExpr{Symbol}[]), EinExpr{Symbol}([:R, :K], EinExpr{Symbol}[])]), EinExpr{Symbol}([:R], EinExpr{Symbol}[EinExpr{Symbol}([:G, :N, :R], EinExpr{Symbol}[]), EinExpr{Symbol}([:G, :N], EinExpr{Symbol}[EinExpr{Symbol}([:H, :Q, :N], EinExpr{Symbol}[]), EinExpr{Symbol}([:H, :Q, :G], EinExpr{Symbol}[EinExpr{Symbol}([:C, :F, :Q], EinExpr{Symbol}[]), EinExpr{Symbol}([:H, :C, :F, :G], EinExpr{Symbol}[EinExpr{Symbol}([:D, :H, :O, :C], EinExpr{Symbol}[]), EinExpr{Symbol}([:D, :O, :F, :G], EinExpr{Symbol}[EinExpr{Symbol}([:B, :D, :F, :J], EinExpr{Symbol}[EinExpr{Symbol}([:B, :D, :F, :V], EinExpr{Symbol}[]), EinExpr{Symbol}([:V, :J], EinExpr{Symbol}[EinExpr{Symbol}([:P, :J], EinExpr{Symbol}[]), EinExpr{Symbol}([:V, :P], EinExpr{Symbol}[EinExpr{Symbol}([:E], EinExpr{Symbol}[]), EinExpr{Symbol}([:E, :V, :P], EinExpr{Symbol}[])])])]), EinExpr{Symbol}([:B, :O, :G, :J], EinExpr{Symbol}[EinExpr{Symbol}([:O, :G, :I, :U], EinExpr{Symbol}[]), EinExpr{Symbol}([:B, :I, :U, :J], EinExpr{Symbol}[EinExpr{Symbol}([:M, :U, :T, :J], EinExpr{Symbol}[]), EinExpr{Symbol}([:B, :M, :I, :T], EinExpr{Symbol}[EinExpr{Symbol}([:B, :S, :M, :A], EinExpr{Symbol}[]), EinExpr{Symbol}([:S, :A, :I, :T], EinExpr{Symbol}[EinExpr{Symbol}([:A, :I, :L], EinExpr{Symbol}[]), EinExpr{Symbol}([:S, :L, :T], EinExpr{Symbol}[])])])])])])])])])])]), Dict(:F => 16, :D => 16, :B => 16, :V => 16, :K => 16, :S => 16, :E => 16, :N => 16, :M => 16, :A => 16…))"
      ]
     },
     "metadata": {},
     "output_type": "display_data"
    }
   ],
   "source": [
    "path = einexpr(tn; optimizer=Exhaustive())"
   ]
  },
  {
   "cell_type": "code",
   "execution_count": 4,
   "metadata": {},
   "outputs": [
    {
     "data": {
      "text/plain": [
       "BenchmarkTools.Trial: 411 samples with 1 evaluation.\n",
       " Range \u001b[90m(\u001b[39m\u001b[36m\u001b[1mmin\u001b[22m\u001b[39m … \u001b[35mmax\u001b[39m\u001b[90m):  \u001b[39m\u001b[36m\u001b[1m10.154 ms\u001b[22m\u001b[39m … \u001b[35m228.945 ms\u001b[39m  \u001b[90m┊\u001b[39m GC \u001b[90m(\u001b[39mmin … max\u001b[90m): \u001b[39m0.00% … 95.24%\n",
       " Time  \u001b[90m(\u001b[39m\u001b[34m\u001b[1mmedian\u001b[22m\u001b[39m\u001b[90m):     \u001b[39m\u001b[34m\u001b[1m10.357 ms               \u001b[22m\u001b[39m\u001b[90m┊\u001b[39m GC \u001b[90m(\u001b[39mmedian\u001b[90m):    \u001b[39m0.00%\n",
       " Time  \u001b[90m(\u001b[39m\u001b[32m\u001b[1mmean\u001b[22m\u001b[39m ± \u001b[32mσ\u001b[39m\u001b[90m):   \u001b[39m\u001b[32m\u001b[1m12.134 ms\u001b[22m\u001b[39m ± \u001b[32m 10.944 ms\u001b[39m  \u001b[90m┊\u001b[39m GC \u001b[90m(\u001b[39mmean ± σ\u001b[90m):  \u001b[39m5.96% ±  5.90%\n",
       "\n",
       "  \u001b[39m█\u001b[39m▇\u001b[34m▃\u001b[39m\u001b[39m \u001b[39m \u001b[39m \u001b[39m \u001b[39m \u001b[39m \u001b[39m \u001b[39m \u001b[39m \u001b[39m \u001b[39m \u001b[39m▁\u001b[39m \u001b[32m \u001b[39m\u001b[39m \u001b[39m▁\u001b[39m \u001b[39m \u001b[39m \u001b[39m▂\u001b[39m \u001b[39m \u001b[39m \u001b[39m \u001b[39m \u001b[39m \u001b[39m \u001b[39m \u001b[39m \u001b[39m \u001b[39m \u001b[39m \u001b[39m \u001b[39m \u001b[39m \u001b[39m \u001b[39m \u001b[39m \u001b[39m \u001b[39m \u001b[39m \u001b[39m \u001b[39m \u001b[39m \u001b[39m \u001b[39m \u001b[39m \u001b[39m \u001b[39m \u001b[39m \u001b[39m \u001b[39m \u001b[39m \u001b[39m \u001b[39m \u001b[39m \u001b[39m \u001b[39m \u001b[39m \n",
       "  \u001b[39m█\u001b[39m█\u001b[34m█\u001b[39m\u001b[39m▇\u001b[39m▇\u001b[39m▄\u001b[39m▄\u001b[39m▄\u001b[39m▁\u001b[39m▄\u001b[39m▁\u001b[39m▁\u001b[39m▁\u001b[39m▇\u001b[39m█\u001b[39m█\u001b[32m▅\u001b[39m\u001b[39m▁\u001b[39m█\u001b[39m█\u001b[39m▇\u001b[39m▇\u001b[39m█\u001b[39m█\u001b[39m▅\u001b[39m▄\u001b[39m▄\u001b[39m▄\u001b[39m▁\u001b[39m▁\u001b[39m▁\u001b[39m▁\u001b[39m▁\u001b[39m▁\u001b[39m▁\u001b[39m▁\u001b[39m▁\u001b[39m▁\u001b[39m▁\u001b[39m▁\u001b[39m▁\u001b[39m▁\u001b[39m▇\u001b[39m█\u001b[39m█\u001b[39m▇\u001b[39m▁\u001b[39m▅\u001b[39m▁\u001b[39m▁\u001b[39m▄\u001b[39m▁\u001b[39m▁\u001b[39m▁\u001b[39m▄\u001b[39m▅\u001b[39m▆\u001b[39m▇\u001b[39m▇\u001b[39m█\u001b[39m \u001b[39m▇\n",
       "  10.2 ms\u001b[90m       \u001b[39m\u001b[90mHistogram: \u001b[39m\u001b[90m\u001b[1mlog(\u001b[22m\u001b[39m\u001b[90mfrequency\u001b[39m\u001b[90m\u001b[1m)\u001b[22m\u001b[39m\u001b[90m by time\u001b[39m      17.5 ms \u001b[0m\u001b[1m<\u001b[22m\n",
       "\n",
       " Memory estimate\u001b[90m: \u001b[39m\u001b[33m9.41 MiB\u001b[39m, allocs estimate\u001b[90m: \u001b[39m\u001b[33m3303\u001b[39m."
      ]
     },
     "metadata": {},
     "output_type": "display_data"
    }
   ],
   "source": [
    "@benchmark contract(tn; path)"
   ]
  },
  {
   "cell_type": "code",
   "execution_count": 5,
   "metadata": {},
   "outputs": [
    {
     "data": {
      "text/plain": [
       "Reactant.Thunk{Val{(((:result, 1),),)}, Val{(((:args, 8, 1), (:resargs, 8, 1)), ((:args, 11, 1), (:resargs, 11, 1)), ((:args, 2, 1), (:resargs, 2, 1)), ((:args, 5, 1), (:resargs, 5, 1)), ((:args, 13, 1), (:resargs, 13, 1)), ((:args, 15, 1), (:resargs, 15, 1)), ((:args, 4, 1), (:resargs, 4, 1)), ((:args, 6, 1), (:resargs, 6, 1)), ((:args, 1, 1), (:resargs, 1, 1)), ((:args, 14, 1), (:resargs, 14, 1)), ((:args, 7, 1), (:resargs, 7, 1)), ((:args, 12, 1), (:resargs, 12, 1)), ((:args, 3, 1), (:resargs, 3, 1)), ((:args, 9, 1), (:resargs, 9, 1)), ((:args, 10, 1), (:resargs, 10, 1)))}, Val{((((:args, 12, 1), (:resargs, 12, 1)), 11), (((:args, 10, 1), (:resargs, 10, 1)), 14), (((:args, 4, 1), (:resargs, 4, 1)), 6), (((:args, 9, 1), (:resargs, 9, 1)), 13), (((:args, 15, 1), (:resargs, 15, 1)), 5), (((:args, 14, 1), (:resargs, 14, 1)), 9), (((:args, 8, 1), (:resargs, 8, 1)), 0), (((:args, 1, 1), (:resargs, 1, 1)), 8), (((:args, 13, 1), (:resargs, 13, 1)), 4), (((:args, 5, 1), (:resargs, 5, 1)), 3), (((:args, 2, 1), (:resargs, 2, 1)), 2), (((:args, 6, 1), (:resargs, 6, 1)), 7), (((:args, 11, 1), (:resargs, 11, 1)), 1), (((:args, 7, 1), (:resargs, 7, 1)), 10), (((:args, 3, 1), (:resargs, 3, 1)), 12))}, Reactant.MakeStruct{Tensor{Float64, 0, Reactant.ConcreteRArray{Float64, (), 0}}, Tuple{Reactant.MakeConcreteRArray{Reactant.ConcreteRArray{Float64, (), 0}}, Reactant.MakeArray{Vector{Symbol}, Tuple{}}}}}(Reactant.XLA.LoadedExecutable(Ptr{Nothing} @0x0000000004ac6f30))"
      ]
     },
     "metadata": {},
     "output_type": "display_data"
    }
   ],
   "source": [
    "tn′ = adapt(Reactant.ConcreteRArray, tn)\n",
    "g = Reactant.compile(Tuple(tensors(tn′))) do ts...\n",
    "    _tn = TensorNetwork(ts)\n",
    "    contract(_tn; path)\n",
    "end"
   ]
  },
  {
   "cell_type": "code",
   "execution_count": 6,
   "metadata": {},
   "outputs": [
    {
     "data": {
      "text/plain": [
       "BenchmarkTools.Trial: 564 samples with 1 evaluation.\n",
       " Range \u001b[90m(\u001b[39m\u001b[36m\u001b[1mmin\u001b[22m\u001b[39m … \u001b[35mmax\u001b[39m\u001b[90m):  \u001b[39m\u001b[36m\u001b[1m8.199 ms\u001b[22m\u001b[39m … \u001b[35m 19.417 ms\u001b[39m  \u001b[90m┊\u001b[39m GC \u001b[90m(\u001b[39mmin … max\u001b[90m): \u001b[39m0.00% … 0.00%\n",
       " Time  \u001b[90m(\u001b[39m\u001b[34m\u001b[1mmedian\u001b[22m\u001b[39m\u001b[90m):     \u001b[39m\u001b[34m\u001b[1m8.747 ms               \u001b[22m\u001b[39m\u001b[90m┊\u001b[39m GC \u001b[90m(\u001b[39mmedian\u001b[90m):    \u001b[39m0.00%\n",
       " Time  \u001b[90m(\u001b[39m\u001b[32m\u001b[1mmean\u001b[22m\u001b[39m ± \u001b[32mσ\u001b[39m\u001b[90m):   \u001b[39m\u001b[32m\u001b[1m8.861 ms\u001b[22m\u001b[39m ± \u001b[32m776.079 μs\u001b[39m  \u001b[90m┊\u001b[39m GC \u001b[90m(\u001b[39mmean ± σ\u001b[90m):  \u001b[39m0.00% ± 0.00%\n",
       "\n",
       "  \u001b[39m \u001b[39m \u001b[39m \u001b[39m \u001b[39m▁\u001b[39m▄\u001b[39m▂\u001b[39m▆\u001b[39m█\u001b[39m█\u001b[39m▆\u001b[34m█\u001b[39m\u001b[39m▅\u001b[39m▃\u001b[32m▄\u001b[39m\u001b[39m▂\u001b[39m \u001b[39m▂\u001b[39m \u001b[39m \u001b[39m \u001b[39m \u001b[39m \u001b[39m \u001b[39m \u001b[39m \u001b[39m \u001b[39m \u001b[39m \u001b[39m \u001b[39m \u001b[39m \u001b[39m \u001b[39m \u001b[39m \u001b[39m \u001b[39m \u001b[39m \u001b[39m \u001b[39m \u001b[39m \u001b[39m \u001b[39m \u001b[39m \u001b[39m \u001b[39m \u001b[39m \u001b[39m \u001b[39m \u001b[39m \u001b[39m \u001b[39m \u001b[39m \u001b[39m \u001b[39m \u001b[39m \u001b[39m \u001b[39m \u001b[39m \u001b[39m \u001b[39m \n",
       "  \u001b[39m▃\u001b[39m▃\u001b[39m▆\u001b[39m▆\u001b[39m█\u001b[39m█\u001b[39m█\u001b[39m█\u001b[39m█\u001b[39m█\u001b[39m█\u001b[34m█\u001b[39m\u001b[39m█\u001b[39m█\u001b[32m█\u001b[39m\u001b[39m█\u001b[39m█\u001b[39m█\u001b[39m▇\u001b[39m▇\u001b[39m▆\u001b[39m▆\u001b[39m▅\u001b[39m▄\u001b[39m▃\u001b[39m▃\u001b[39m▄\u001b[39m▂\u001b[39m▁\u001b[39m▃\u001b[39m▁\u001b[39m▂\u001b[39m▁\u001b[39m▂\u001b[39m▁\u001b[39m▂\u001b[39m▁\u001b[39m▂\u001b[39m▁\u001b[39m▁\u001b[39m▁\u001b[39m▁\u001b[39m▂\u001b[39m▁\u001b[39m▁\u001b[39m▁\u001b[39m▁\u001b[39m▁\u001b[39m▁\u001b[39m▁\u001b[39m▁\u001b[39m▁\u001b[39m▁\u001b[39m▁\u001b[39m▁\u001b[39m▁\u001b[39m▁\u001b[39m▁\u001b[39m▂\u001b[39m \u001b[39m▄\n",
       "  8.2 ms\u001b[90m          Histogram: frequency by time\u001b[39m          11 ms \u001b[0m\u001b[1m<\u001b[22m\n",
       "\n",
       " Memory estimate\u001b[90m: \u001b[39m\u001b[33m496 bytes\u001b[39m, allocs estimate\u001b[90m: \u001b[39m\u001b[33m7\u001b[39m."
      ]
     },
     "metadata": {},
     "output_type": "display_data"
    }
   ],
   "source": [
    "@benchmark g(tensors(tn′)...)"
   ]
  },
  {
   "cell_type": "code",
   "execution_count": 7,
   "metadata": {},
   "outputs": [
    {
     "data": {
      "text/plain": [
       "Reactant.Thunk{Val{(((:result, 4, 1),), ((:result, 14, 1),), ((:result, 9, 1),), ((:result, 7, 1),), ((:result, 6, 1),), ((:result, 2, 1),), ((:result, 10, 1),), ((:result, 15, 1),), ((:result, 3, 1),), ((:result, 5, 1),), ((:result, 12, 1),), ((:result, 8, 1),), ((:result, 1, 1),), ((:result, 13, 1),), ((:result, 11, 1),))}, Val{(((:args, 8, 1), (:resargs, 8, 1)), ((:args, 11, 1), (:resargs, 11, 1)), ((:args, 2, 1), (:resargs, 2, 1)), ((:args, 5, 1), (:resargs, 5, 1)), ((:args, 13, 1), (:resargs, 13, 1)), ((:args, 15, 1), (:resargs, 15, 1)), ((:args, 4, 1), (:resargs, 4, 1)), ((:args, 6, 1), (:resargs, 6, 1)), ((:args, 1, 1), (:resargs, 1, 1)), ((:args, 14, 1), (:resargs, 14, 1)), ((:args, 7, 1), (:resargs, 7, 1)), ((:args, 12, 1), (:resargs, 12, 1)), ((:args, 3, 1), (:resargs, 3, 1)), ((:args, 9, 1), (:resargs, 9, 1)), ((:args, 10, 1), (:resargs, 10, 1)))}, Val{((((:args, 9, 1), (:resargs, 9, 1)), 13), (((:args, 7, 1), (:resargs, 7, 1)), 10), (((:args, 8, 1), (:resargs, 8, 1)), 0), (((:args, 12, 1), (:resargs, 12, 1)), 11), (((:args, 10, 1), (:resargs, 10, 1)), 14), (((:args, 14, 1), (:resargs, 14, 1)), 9), (((:args, 2, 1), (:resargs, 2, 1)), 2), (((:args, 4, 1), (:resargs, 4, 1)), 6), (((:args, 6, 1), (:resargs, 6, 1)), 7), (((:args, 11, 1), (:resargs, 11, 1)), 1), (((:args, 1, 1), (:resargs, 1, 1)), 8), (((:args, 15, 1), (:resargs, 15, 1)), 5), (((:args, 3, 1), (:resargs, 3, 1)), 12), (((:args, 13, 1), (:resargs, 13, 1)), 4), (((:args, 5, 1), (:resargs, 5, 1)), 3))}, Reactant.MakeStruct{Tuple{Tensor{Float64, 4, Reactant.ConcreteRArray{Float64, (16, 16, 16, 16), 4}}, Tensor{Float64, 4, Reactant.ConcreteRArray{Float64, (16, 16, 16, 16), 4}}, Tensor{Float64, 1, Reactant.ConcreteRArray{Float64, (16,), 1}}, Tensor{Float64, 3, Reactant.ConcreteRArray{Float64, (16, 16, 16), 3}}, Tensor{Float64, 4, Reactant.ConcreteRArray{Float64, (16, 16, 16, 16), 4}}, Tensor{Float64, 4, Reactant.ConcreteRArray{Float64, (16, 16, 16, 16), 4}}, Tensor{Float64, 3, Reactant.ConcreteRArray{Float64, (16, 16, 16), 3}}, Tensor{Float64, 3, Reactant.ConcreteRArray{Float64, (16, 16, 16), 3}}, Tensor{Float64, 1, Reactant.ConcreteRArray{Float64, (16,), 1}}, Tensor{Float64, 3, Reactant.ConcreteRArray{Float64, (16, 16, 16), 3}}, Tensor{Float64, 3, Reactant.ConcreteRArray{Float64, (16, 16, 16), 3}}, Tensor{Float64, 2, Reactant.ConcreteRArray{Float64, (16, 16), 2}}, Tensor{Float64, 3, Reactant.ConcreteRArray{Float64, (16, 16, 16), 3}}, Tensor{Float64, 2, Reactant.ConcreteRArray{Float64, (16, 16), 2}}, Tensor{Float64, 4, Reactant.ConcreteRArray{Float64, (16, 16, 16, 16), 4}}}, Tuple{Reactant.MakeStruct{Tensor{Float64, 4, Reactant.ConcreteRArray{Float64, (16, 16, 16, 16), 4}}, Tuple{Reactant.MakeConcreteRArray{Reactant.ConcreteRArray{Float64, (16, 16, 16, 16), 4}}, Reactant.MakeArray{Vector{Symbol}, Tuple{:B, :S, :M, :A}}}}, Reactant.MakeStruct{Tensor{Float64, 4, Reactant.ConcreteRArray{Float64, (16, 16, 16, 16), 4}}, Tuple{Reactant.MakeConcreteRArray{Reactant.ConcreteRArray{Float64, (16, 16, 16, 16), 4}}, Reactant.MakeArray{Vector{Symbol}, Tuple{:D, :H, :O, :C}}}}, Reactant.MakeStruct{Tensor{Float64, 1, Reactant.ConcreteRArray{Float64, (16,), 1}}, Tuple{Reactant.MakeConcreteRArray{Reactant.ConcreteRArray{Float64, (16,), 1}}, Reactant.MakeArray{Vector{Symbol}, Tuple{:E}}}}, Reactant.MakeStruct{Tensor{Float64, 3, Reactant.ConcreteRArray{Float64, (16, 16, 16), 3}}, Tuple{Reactant.MakeConcreteRArray{Reactant.ConcreteRArray{Float64, (16, 16, 16), 3}}, Reactant.MakeArray{Vector{Symbol}, Tuple{:F, :C, :Q}}}}, Reactant.MakeStruct{Tensor{Float64, 4, Reactant.ConcreteRArray{Float64, (16, 16, 16, 16), 4}}, Tuple{Reactant.MakeConcreteRArray{Reactant.ConcreteRArray{Float64, (16, 16, 16, 16), 4}}, Reactant.MakeArray{Vector{Symbol}, Tuple{:F, :V, :D, :B}}}}, Reactant.MakeStruct{Tensor{Float64, 4, Reactant.ConcreteRArray{Float64, (16, 16, 16, 16), 4}}, Tuple{Reactant.MakeConcreteRArray{Reactant.ConcreteRArray{Float64, (16, 16, 16, 16), 4}}, Reactant.MakeArray{Vector{Symbol}, Tuple{:G, :I, :U, :O}}}}, Reactant.MakeStruct{Tensor{Float64, 3, Reactant.ConcreteRArray{Float64, (16, 16, 16), 3}}, Tuple{Reactant.MakeConcreteRArray{Reactant.ConcreteRArray{Float64, (16, 16, 16), 3}}, Reactant.MakeArray{Vector{Symbol}, Tuple{:G, :N, :R}}}}, Reactant.MakeStruct{Tensor{Float64, 3, Reactant.ConcreteRArray{Float64, (16, 16, 16), 3}}, Tuple{Reactant.MakeConcreteRArray{Reactant.ConcreteRArray{Float64, (16, 16, 16), 3}}, Reactant.MakeArray{Vector{Symbol}, Tuple{:I, :L, :A}}}}, Reactant.MakeStruct{Tensor{Float64, 1, Reactant.ConcreteRArray{Float64, (16,), 1}}, Tuple{Reactant.MakeConcreteRArray{Reactant.ConcreteRArray{Float64, (16,), 1}}, Reactant.MakeArray{Vector{Symbol}, Tuple{:K}}}}, Reactant.MakeStruct{Tensor{Float64, 3, Reactant.ConcreteRArray{Float64, (16, 16, 16), 3}}, Tuple{Reactant.MakeConcreteRArray{Reactant.ConcreteRArray{Float64, (16, 16, 16), 3}}, Reactant.MakeArray{Vector{Symbol}, Tuple{:L, :T, :S}}}}, Reactant.MakeStruct{Tensor{Float64, 3, Reactant.ConcreteRArray{Float64, (16, 16, 16), 3}}, Tuple{Reactant.MakeConcreteRArray{Reactant.ConcreteRArray{Float64, (16, 16, 16), 3}}, Reactant.MakeArray{Vector{Symbol}, Tuple{:N, :H, :Q}}}}, Reactant.MakeStruct{Tensor{Float64, 2, Reactant.ConcreteRArray{Float64, (16, 16), 2}}, Tuple{Reactant.MakeConcreteRArray{Reactant.ConcreteRArray{Float64, (16, 16), 2}}, Reactant.MakeArray{Vector{Symbol}, Tuple{:P, :J}}}}, Reactant.MakeStruct{Tensor{Float64, 3, Reactant.ConcreteRArray{Float64, (16, 16, 16), 3}}, Tuple{Reactant.MakeConcreteRArray{Reactant.ConcreteRArray{Float64, (16, 16, 16), 3}}, Reactant.MakeArray{Vector{Symbol}, Tuple{:P, :V, :E}}}}, Reactant.MakeStruct{Tensor{Float64, 2, Reactant.ConcreteRArray{Float64, (16, 16), 2}}, Tuple{Reactant.MakeConcreteRArray{Reactant.ConcreteRArray{Float64, (16, 16), 2}}, Reactant.MakeArray{Vector{Symbol}, Tuple{:R, :K}}}}, Reactant.MakeStruct{Tensor{Float64, 4, Reactant.ConcreteRArray{Float64, (16, 16, 16, 16), 4}}, Tuple{Reactant.MakeConcreteRArray{Reactant.ConcreteRArray{Float64, (16, 16, 16, 16), 4}}, Reactant.MakeArray{Vector{Symbol}, Tuple{:U, :M, :T, :J}}}}}}}(Reactant.XLA.LoadedExecutable(Ptr{Nothing} @0x000000000b10e280))"
      ]
     },
     "metadata": {},
     "output_type": "display_data"
    }
   ],
   "source": [
    "function f(x...)\n",
    "    _tn = TensorNetwork(x)\n",
    "    contract(_tn; path)\n",
    "end\n",
    "\n",
    "∇g = Reactant.compile(Tuple(tensors(tn′))) do x...\n",
    "    dx = Enzyme.make_zero.(x)\n",
    "    Enzyme.autodiff(Reverse, f, Active, Duplicated.(x,dx)...)\n",
    "    return dx\n",
    "end"
   ]
  },
  {
   "cell_type": "code",
   "execution_count": 8,
   "metadata": {},
   "outputs": [
    {
     "data": {
      "text/plain": [
       "BenchmarkTools.Trial: 186 samples with 1 evaluation.\n",
       " Range \u001b[90m(\u001b[39m\u001b[36m\u001b[1mmin\u001b[22m\u001b[39m … \u001b[35mmax\u001b[39m\u001b[90m):  \u001b[39m\u001b[36m\u001b[1m20.952 ms\u001b[22m\u001b[39m … \u001b[35m46.400 ms\u001b[39m  \u001b[90m┊\u001b[39m GC \u001b[90m(\u001b[39mmin … max\u001b[90m): \u001b[39m0.00% … 0.00%\n",
       " Time  \u001b[90m(\u001b[39m\u001b[34m\u001b[1mmedian\u001b[22m\u001b[39m\u001b[90m):     \u001b[39m\u001b[34m\u001b[1m25.675 ms              \u001b[22m\u001b[39m\u001b[90m┊\u001b[39m GC \u001b[90m(\u001b[39mmedian\u001b[90m):    \u001b[39m0.00%\n",
       " Time  \u001b[90m(\u001b[39m\u001b[32m\u001b[1mmean\u001b[22m\u001b[39m ± \u001b[32mσ\u001b[39m\u001b[90m):   \u001b[39m\u001b[32m\u001b[1m26.854 ms\u001b[22m\u001b[39m ± \u001b[32m 4.545 ms\u001b[39m  \u001b[90m┊\u001b[39m GC \u001b[90m(\u001b[39mmean ± σ\u001b[90m):  \u001b[39m0.00% ± 0.00%\n",
       "\n",
       "  \u001b[39m \u001b[39m \u001b[39m \u001b[39m▁\u001b[39m▃\u001b[39m█\u001b[39m▁\u001b[39m▂\u001b[39m \u001b[39m▂\u001b[39m▅\u001b[39m▇\u001b[34m▂\u001b[39m\u001b[39m▅\u001b[39m \u001b[32m \u001b[39m\u001b[39m \u001b[39m \u001b[39m \u001b[39m \u001b[39m \u001b[39m \u001b[39m \u001b[39m \u001b[39m \u001b[39m \u001b[39m \u001b[39m \u001b[39m \u001b[39m \u001b[39m \u001b[39m \u001b[39m \u001b[39m \u001b[39m \u001b[39m \u001b[39m \u001b[39m \u001b[39m \u001b[39m \u001b[39m \u001b[39m \u001b[39m \u001b[39m \u001b[39m \u001b[39m \u001b[39m \u001b[39m \u001b[39m \u001b[39m \u001b[39m \u001b[39m \u001b[39m \u001b[39m \u001b[39m \u001b[39m \u001b[39m \u001b[39m \u001b[39m \u001b[39m \u001b[39m \n",
       "  \u001b[39m▃\u001b[39m▃\u001b[39m▆\u001b[39m█\u001b[39m█\u001b[39m█\u001b[39m█\u001b[39m█\u001b[39m█\u001b[39m█\u001b[39m█\u001b[39m█\u001b[34m█\u001b[39m\u001b[39m█\u001b[39m▇\u001b[32m█\u001b[39m\u001b[39m▄\u001b[39m▇\u001b[39m▆\u001b[39m▆\u001b[39m▆\u001b[39m█\u001b[39m▆\u001b[39m▇\u001b[39m▃\u001b[39m▃\u001b[39m▄\u001b[39m▃\u001b[39m▃\u001b[39m▃\u001b[39m▄\u001b[39m▃\u001b[39m▃\u001b[39m▁\u001b[39m▁\u001b[39m▁\u001b[39m▄\u001b[39m▃\u001b[39m▃\u001b[39m▃\u001b[39m▁\u001b[39m▁\u001b[39m▃\u001b[39m▁\u001b[39m▃\u001b[39m▁\u001b[39m▁\u001b[39m▃\u001b[39m▁\u001b[39m▃\u001b[39m▃\u001b[39m▁\u001b[39m▁\u001b[39m▁\u001b[39m▁\u001b[39m▁\u001b[39m▁\u001b[39m▁\u001b[39m▃\u001b[39m \u001b[39m▃\n",
       "  21 ms\u001b[90m           Histogram: frequency by time\u001b[39m        44.4 ms \u001b[0m\u001b[1m<\u001b[22m\n",
       "\n",
       " Memory estimate\u001b[90m: \u001b[39m\u001b[33m2.64 KiB\u001b[39m, allocs estimate\u001b[90m: \u001b[39m\u001b[33m63\u001b[39m."
      ]
     },
     "metadata": {},
     "output_type": "display_data"
    }
   ],
   "source": [
    "@benchmark ∇g(tensors(tn′)...)"
   ]
  },
  {
   "cell_type": "code",
   "execution_count": 9,
   "metadata": {},
   "outputs": [
    {
     "data": {
      "text/plain": [
       "Reactant.Thunk{Val{(((:result, 2, 14, 1),), ((:result, 1, 2, 1),), ((:result, 2, 15, 1),), ((:result, 2, 6, 1),), ((:result, 2, 10, 1),), ((:result, 2, 9, 1),), ((:result, 2, 13, 1),), ((:result, 2, 5, 1),), ((:result, 2, 8, 1),), ((:result, 2, 12, 1),), ((:result, 2, 1, 1),), ((:result, 2, 3, 1),), ((:result, 2, 7, 1),), ((:result, 2, 4, 1),), ((:result, 2, 11, 1),), ((:result, 2, 2, 1),))}, Val{(((:args, 8, 1), (:resargs, 8, 1)), ((:args, 11, 1), (:resargs, 11, 1)), ((:args, 2, 1), (:resargs, 2, 1)), ((:args, 5, 1), (:resargs, 5, 1)), ((:args, 13, 1), (:resargs, 13, 1)), ((:args, 15, 1), (:resargs, 15, 1)), ((:args, 4, 1), (:resargs, 4, 1)), ((:args, 6, 1), (:resargs, 6, 1)), ((:args, 1, 1), (:resargs, 1, 1)), ((:args, 14, 1), (:resargs, 14, 1)), ((:args, 7, 1), (:resargs, 7, 1)), ((:args, 12, 1), (:resargs, 12, 1)), ((:args, 3, 1), (:resargs, 3, 1)), ((:args, 9, 1), (:resargs, 9, 1)), ((:args, 10, 1), (:resargs, 10, 1)))}, Val{((((:args, 8, 1), (:resargs, 8, 1)), 0), (((:args, 2, 1), (:resargs, 2, 1)), 2), (((:args, 4, 1), (:resargs, 4, 1)), 6), (((:args, 11, 1), (:resargs, 11, 1)), 1), (((:args, 13, 1), (:resargs, 13, 1)), 4), (((:args, 6, 1), (:resargs, 6, 1)), 7), (((:args, 3, 1), (:resargs, 3, 1)), 12), (((:args, 10, 1), (:resargs, 10, 1)), 14), (((:args, 14, 1), (:resargs, 14, 1)), 9), (((:args, 12, 1), (:resargs, 12, 1)), 11), (((:args, 7, 1), (:resargs, 7, 1)), 10), (((:args, 5, 1), (:resargs, 5, 1)), 3), (((:args, 1, 1), (:resargs, 1, 1)), 8), (((:args, 9, 1), (:resargs, 9, 1)), 13), (((:args, 15, 1), (:resargs, 15, 1)), 5))}, Reactant.MakeStruct{Tuple{Tuple{NTuple{15, Nothing}, Tensor{Float64, 0, Reactant.ConcreteRArray{Float64, (), 0}}}, Tuple{Tensor{Float64, 4, Reactant.ConcreteRArray{Float64, (16, 16, 16, 16), 4}}, Tensor{Float64, 4, Reactant.ConcreteRArray{Float64, (16, 16, 16, 16), 4}}, Tensor{Float64, 1, Reactant.ConcreteRArray{Float64, (16,), 1}}, Tensor{Float64, 3, Reactant.ConcreteRArray{Float64, (16, 16, 16), 3}}, Tensor{Float64, 4, Reactant.ConcreteRArray{Float64, (16, 16, 16, 16), 4}}, Tensor{Float64, 4, Reactant.ConcreteRArray{Float64, (16, 16, 16, 16), 4}}, Tensor{Float64, 3, Reactant.ConcreteRArray{Float64, (16, 16, 16), 3}}, Tensor{Float64, 3, Reactant.ConcreteRArray{Float64, (16, 16, 16), 3}}, Tensor{Float64, 1, Reactant.ConcreteRArray{Float64, (16,), 1}}, Tensor{Float64, 3, Reactant.ConcreteRArray{Float64, (16, 16, 16), 3}}, Tensor{Float64, 3, Reactant.ConcreteRArray{Float64, (16, 16, 16), 3}}, Tensor{Float64, 2, Reactant.ConcreteRArray{Float64, (16, 16), 2}}, Tensor{Float64, 3, Reactant.ConcreteRArray{Float64, (16, 16, 16), 3}}, Tensor{Float64, 2, Reactant.ConcreteRArray{Float64, (16, 16), 2}}, Tensor{Float64, 4, Reactant.ConcreteRArray{Float64, (16, 16, 16, 16), 4}}}}, Tuple{Reactant.MakeStruct{Tuple{NTuple{15, Nothing}, Tensor{Float64, 0, Reactant.ConcreteRArray{Float64, (), 0}}}, Tuple{Reactant.MakeStruct{NTuple{15, Nothing}, NTuple{15, Reactant.MakeVal{Val{nothing}}}}, Reactant.MakeStruct{Tensor{Float64, 0, Reactant.ConcreteRArray{Float64, (), 0}}, Tuple{Reactant.MakeConcreteRArray{Reactant.ConcreteRArray{Float64, (), 0}}, Reactant.MakeArray{Vector{Symbol}, Tuple{}}}}}}, Reactant.MakeStruct{Tuple{Tensor{Float64, 4, Reactant.ConcreteRArray{Float64, (16, 16, 16, 16), 4}}, Tensor{Float64, 4, Reactant.ConcreteRArray{Float64, (16, 16, 16, 16), 4}}, Tensor{Float64, 1, Reactant.ConcreteRArray{Float64, (16,), 1}}, Tensor{Float64, 3, Reactant.ConcreteRArray{Float64, (16, 16, 16), 3}}, Tensor{Float64, 4, Reactant.ConcreteRArray{Float64, (16, 16, 16, 16), 4}}, Tensor{Float64, 4, Reactant.ConcreteRArray{Float64, (16, 16, 16, 16), 4}}, Tensor{Float64, 3, Reactant.ConcreteRArray{Float64, (16, 16, 16), 3}}, Tensor{Float64, 3, Reactant.ConcreteRArray{Float64, (16, 16, 16), 3}}, Tensor{Float64, 1, Reactant.ConcreteRArray{Float64, (16,), 1}}, Tensor{Float64, 3, Reactant.ConcreteRArray{Float64, (16, 16, 16), 3}}, Tensor{Float64, 3, Reactant.ConcreteRArray{Float64, (16, 16, 16), 3}}, Tensor{Float64, 2, Reactant.ConcreteRArray{Float64, (16, 16), 2}}, Tensor{Float64, 3, Reactant.ConcreteRArray{Float64, (16, 16, 16), 3}}, Tensor{Float64, 2, Reactant.ConcreteRArray{Float64, (16, 16), 2}}, Tensor{Float64, 4, Reactant.ConcreteRArray{Float64, (16, 16, 16, 16), 4}}}, Tuple{Reactant.MakeStruct{Tensor{Float64, 4, Reactant.ConcreteRArray{Float64, (16, 16, 16, 16), 4}}, Tuple{Reactant.MakeConcreteRArray{Reactant.ConcreteRArray{Float64, (16, 16, 16, 16), 4}}, Reactant.MakeArray{Vector{Symbol}, Tuple{:B, :S, :M, :A}}}}, Reactant.MakeStruct{Tensor{Float64, 4, Reactant.ConcreteRArray{Float64, (16, 16, 16, 16), 4}}, Tuple{Reactant.MakeConcreteRArray{Reactant.ConcreteRArray{Float64, (16, 16, 16, 16), 4}}, Reactant.MakeArray{Vector{Symbol}, Tuple{:D, :H, :O, :C}}}}, Reactant.MakeStruct{Tensor{Float64, 1, Reactant.ConcreteRArray{Float64, (16,), 1}}, Tuple{Reactant.MakeConcreteRArray{Reactant.ConcreteRArray{Float64, (16,), 1}}, Reactant.MakeArray{Vector{Symbol}, Tuple{:E}}}}, Reactant.MakeStruct{Tensor{Float64, 3, Reactant.ConcreteRArray{Float64, (16, 16, 16), 3}}, Tuple{Reactant.MakeConcreteRArray{Reactant.ConcreteRArray{Float64, (16, 16, 16), 3}}, Reactant.MakeArray{Vector{Symbol}, Tuple{:F, :C, :Q}}}}, Reactant.MakeStruct{Tensor{Float64, 4, Reactant.ConcreteRArray{Float64, (16, 16, 16, 16), 4}}, Tuple{Reactant.MakeConcreteRArray{Reactant.ConcreteRArray{Float64, (16, 16, 16, 16), 4}}, Reactant.MakeArray{Vector{Symbol}, Tuple{:F, :V, :D, :B}}}}, Reactant.MakeStruct{Tensor{Float64, 4, Reactant.ConcreteRArray{Float64, (16, 16, 16, 16), 4}}, Tuple{Reactant.MakeConcreteRArray{Reactant.ConcreteRArray{Float64, (16, 16, 16, 16), 4}}, Reactant.MakeArray{Vector{Symbol}, Tuple{:G, :I, :U, :O}}}}, Reactant.MakeStruct{Tensor{Float64, 3, Reactant.ConcreteRArray{Float64, (16, 16, 16), 3}}, Tuple{Reactant.MakeConcreteRArray{Reactant.ConcreteRArray{Float64, (16, 16, 16), 3}}, Reactant.MakeArray{Vector{Symbol}, Tuple{:G, :N, :R}}}}, Reactant.MakeStruct{Tensor{Float64, 3, Reactant.ConcreteRArray{Float64, (16, 16, 16), 3}}, Tuple{Reactant.MakeConcreteRArray{Reactant.ConcreteRArray{Float64, (16, 16, 16), 3}}, Reactant.MakeArray{Vector{Symbol}, Tuple{:I, :L, :A}}}}, Reactant.MakeStruct{Tensor{Float64, 1, Reactant.ConcreteRArray{Float64, (16,), 1}}, Tuple{Reactant.MakeConcreteRArray{Reactant.ConcreteRArray{Float64, (16,), 1}}, Reactant.MakeArray{Vector{Symbol}, Tuple{:K}}}}, Reactant.MakeStruct{Tensor{Float64, 3, Reactant.ConcreteRArray{Float64, (16, 16, 16), 3}}, Tuple{Reactant.MakeConcreteRArray{Reactant.ConcreteRArray{Float64, (16, 16, 16), 3}}, Reactant.MakeArray{Vector{Symbol}, Tuple{:L, :T, :S}}}}, Reactant.MakeStruct{Tensor{Float64, 3, Reactant.ConcreteRArray{Float64, (16, 16, 16), 3}}, Tuple{Reactant.MakeConcreteRArray{Reactant.ConcreteRArray{Float64, (16, 16, 16), 3}}, Reactant.MakeArray{Vector{Symbol}, Tuple{:N, :H, :Q}}}}, Reactant.MakeStruct{Tensor{Float64, 2, Reactant.ConcreteRArray{Float64, (16, 16), 2}}, Tuple{Reactant.MakeConcreteRArray{Reactant.ConcreteRArray{Float64, (16, 16), 2}}, Reactant.MakeArray{Vector{Symbol}, Tuple{:P, :J}}}}, Reactant.MakeStruct{Tensor{Float64, 3, Reactant.ConcreteRArray{Float64, (16, 16, 16), 3}}, Tuple{Reactant.MakeConcreteRArray{Reactant.ConcreteRArray{Float64, (16, 16, 16), 3}}, Reactant.MakeArray{Vector{Symbol}, Tuple{:P, :V, :E}}}}, Reactant.MakeStruct{Tensor{Float64, 2, Reactant.ConcreteRArray{Float64, (16, 16), 2}}, Tuple{Reactant.MakeConcreteRArray{Reactant.ConcreteRArray{Float64, (16, 16), 2}}, Reactant.MakeArray{Vector{Symbol}, Tuple{:R, :K}}}}, Reactant.MakeStruct{Tensor{Float64, 4, Reactant.ConcreteRArray{Float64, (16, 16, 16, 16), 4}}, Tuple{Reactant.MakeConcreteRArray{Reactant.ConcreteRArray{Float64, (16, 16, 16, 16), 4}}, Reactant.MakeArray{Vector{Symbol}, Tuple{:U, :M, :T, :J}}}}}}}}}(Reactant.XLA.LoadedExecutable(Ptr{Nothing} @0x0000000006760270))"
      ]
     },
     "metadata": {},
     "output_type": "display_data"
    }
   ],
   "source": [
    "re∇g = Reactant.compile(Tuple(tensors(tn′))) do x...\n",
    "    dx = Enzyme.make_zero.(x)\n",
    "    primal = Enzyme.autodiff(ReverseWithPrimal, f, Active, Duplicated.(x,dx)...)\n",
    "    return (primal, dx)\n",
    "end"
   ]
  },
  {
   "cell_type": "code",
   "execution_count": 10,
   "metadata": {},
   "outputs": [
    {
     "data": {
      "text/plain": [
       "BenchmarkTools.Trial: 184 samples with 1 evaluation.\n",
       " Range \u001b[90m(\u001b[39m\u001b[36m\u001b[1mmin\u001b[22m\u001b[39m … \u001b[35mmax\u001b[39m\u001b[90m):  \u001b[39m\u001b[36m\u001b[1m25.174 ms\u001b[22m\u001b[39m … \u001b[35m42.356 ms\u001b[39m  \u001b[90m┊\u001b[39m GC \u001b[90m(\u001b[39mmin … max\u001b[90m): \u001b[39m0.00% … 0.00%\n",
       " Time  \u001b[90m(\u001b[39m\u001b[34m\u001b[1mmedian\u001b[22m\u001b[39m\u001b[90m):     \u001b[39m\u001b[34m\u001b[1m26.660 ms              \u001b[22m\u001b[39m\u001b[90m┊\u001b[39m GC \u001b[90m(\u001b[39mmedian\u001b[90m):    \u001b[39m0.00%\n",
       " Time  \u001b[90m(\u001b[39m\u001b[32m\u001b[1mmean\u001b[22m\u001b[39m ± \u001b[32mσ\u001b[39m\u001b[90m):   \u001b[39m\u001b[32m\u001b[1m27.289 ms\u001b[22m\u001b[39m ± \u001b[32m 2.104 ms\u001b[39m  \u001b[90m┊\u001b[39m GC \u001b[90m(\u001b[39mmean ± σ\u001b[90m):  \u001b[39m0.00% ± 0.00%\n",
       "\n",
       "  \u001b[39m \u001b[39m \u001b[39m \u001b[39m \u001b[39m \u001b[39m▄\u001b[39m█\u001b[34m▁\u001b[39m\u001b[39m \u001b[39m \u001b[32m \u001b[39m\u001b[39m \u001b[39m \u001b[39m \u001b[39m \u001b[39m \u001b[39m \u001b[39m \u001b[39m \u001b[39m \u001b[39m \u001b[39m \u001b[39m \u001b[39m \u001b[39m \u001b[39m \u001b[39m \u001b[39m \u001b[39m \u001b[39m \u001b[39m \u001b[39m \u001b[39m \u001b[39m \u001b[39m \u001b[39m \u001b[39m \u001b[39m \u001b[39m \u001b[39m \u001b[39m \u001b[39m \u001b[39m \u001b[39m \u001b[39m \u001b[39m \u001b[39m \u001b[39m \u001b[39m \u001b[39m \u001b[39m \u001b[39m \u001b[39m \u001b[39m \u001b[39m \u001b[39m \u001b[39m \u001b[39m \u001b[39m \u001b[39m \u001b[39m \n",
       "  \u001b[39m▄\u001b[39m▅\u001b[39m▅\u001b[39m▆\u001b[39m▆\u001b[39m█\u001b[39m█\u001b[34m█\u001b[39m\u001b[39m▇\u001b[39m▇\u001b[32m▅\u001b[39m\u001b[39m▆\u001b[39m▇\u001b[39m▃\u001b[39m▄\u001b[39m▅\u001b[39m▃\u001b[39m▅\u001b[39m▃\u001b[39m▂\u001b[39m▂\u001b[39m▂\u001b[39m▁\u001b[39m▁\u001b[39m▂\u001b[39m▂\u001b[39m▁\u001b[39m▁\u001b[39m▁\u001b[39m▁\u001b[39m▂\u001b[39m▁\u001b[39m▁\u001b[39m▂\u001b[39m▁\u001b[39m▁\u001b[39m▁\u001b[39m▁\u001b[39m▁\u001b[39m▁\u001b[39m▂\u001b[39m▁\u001b[39m▁\u001b[39m▁\u001b[39m▁\u001b[39m▂\u001b[39m▁\u001b[39m▁\u001b[39m▁\u001b[39m▁\u001b[39m▁\u001b[39m▁\u001b[39m▁\u001b[39m▁\u001b[39m▁\u001b[39m▁\u001b[39m▁\u001b[39m▁\u001b[39m▂\u001b[39m \u001b[39m▂\n",
       "  25.2 ms\u001b[90m         Histogram: frequency by time\u001b[39m        37.3 ms \u001b[0m\u001b[1m<\u001b[22m\n",
       "\n",
       " Memory estimate\u001b[90m: \u001b[39m\u001b[33m2.77 KiB\u001b[39m, allocs estimate\u001b[90m: \u001b[39m\u001b[33m67\u001b[39m."
      ]
     },
     "metadata": {},
     "output_type": "display_data"
    }
   ],
   "source": [
    "@benchmark re∇g(tensors(tn′)...)"
   ]
  }
 ],
 "metadata": {
  "kernelspec": {
   "display_name": "Julia 1.10.4",
   "language": "julia",
   "name": "julia-1.10"
  },
  "language_info": {
   "file_extension": ".jl",
   "mimetype": "application/julia",
   "name": "julia",
   "version": "1.10.4"
  }
 },
 "nbformat": 4,
 "nbformat_minor": 2
}
