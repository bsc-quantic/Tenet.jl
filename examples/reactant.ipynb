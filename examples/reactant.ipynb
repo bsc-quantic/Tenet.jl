{
 "cells": [
  {
   "cell_type": "markdown",
   "metadata": {},
   "source": [
    "# Reactant demo"
   ]
  },
  {
   "cell_type": "code",
   "execution_count": null,
   "metadata": {},
   "outputs": [],
   "source": [
    "using Tenet\n",
    "using EinExprs\n",
    "using Reactant\n",
    "using Enzyme\n",
    "using BenchmarkTools\n",
    "using Adapt\n",
    "\n",
    "using LinearAlgebra\n",
    "BLAS.set_num_threads(1)\n",
    "\n",
    "using Random\n",
    "Random.seed!(0)"
   ]
  },
  {
   "cell_type": "code",
   "execution_count": null,
   "metadata": {},
   "outputs": [],
   "source": [
    "tn = rand(TensorNetwork, 15, 3; dim=(16,16))\n",
    "\n",
    "path = einexpr(tn; optimizer=Exhaustive())\n",
    "\n",
    "@benchmark contract(tn; path)"
   ]
  },
  {
   "cell_type": "code",
   "execution_count": null,
   "metadata": {},
   "outputs": [],
   "source": [
    "tn′ = adapt(Reactant.ConcreteRArray, tn)\n",
    "\n",
    "g = Reactant.compile(Tuple(tensors(tn′))) do ts...\n",
    "    _tn = TensorNetwork(ts)\n",
    "    contract(_tn; path)\n",
    "end\n",
    "\n",
    "@benchmark g(tensors(tn′)...)"
   ]
  },
  {
   "cell_type": "code",
   "execution_count": null,
   "metadata": {},
   "outputs": [],
   "source": [
    "function f(x...)\n",
    "    _tn = TensorNetwork(x)\n",
    "    contract(_tn; path)\n",
    "end\n",
    "\n",
    "∇g = Reactant.compile(Tuple(tensors(tn′))) do x...\n",
    "    dx = Enzyme.make_zero.(x)\n",
    "    Enzyme.autodiff(Reverse, f, Active, Duplicated.(x,dx)...)\n",
    "    return dx\n",
    "end\n",
    "\n",
    "@benchmark ∇g(tensors(tn′)...)"
   ]
  },
  {
   "cell_type": "code",
   "execution_count": null,
   "metadata": {},
   "outputs": [],
   "source": [
    "re∇g = Reactant.compile(Tuple(tensors(tn′))) do x...\n",
    "    dx = Enzyme.make_zero.(x)\n",
    "    primal = Enzyme.autodiff(ReverseWithPrimal, f, Active, Duplicated.(x,dx)...)\n",
    "    return (primal, dx)\n",
    "end\n",
    "\n",
    "@benchmark re∇g(tensors(tn′)...)"
   ]
  }
 ],
 "metadata": {
  "kernelspec": {
   "display_name": "Julia 1.10.4",
   "language": "julia",
   "name": "julia-1.10"
  },
  "language_info": {
   "file_extension": ".jl",
   "mimetype": "application/julia",
   "name": "julia",
   "version": "1.10.4"
  }
 },
 "nbformat": 4,
 "nbformat_minor": 2
}
