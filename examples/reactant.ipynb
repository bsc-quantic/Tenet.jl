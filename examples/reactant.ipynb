{
 "cells": [
  {
   "cell_type": "markdown",
   "metadata": {},
   "source": [
    "# Reactant demo\n",
    "\n",
    "<div class=\"alert alert-block alert-warning\"> ⚠️ Currently only working for <b>synchronous clients</b>! </div>"
   ]
  },
  {
   "cell_type": "code",
   "execution_count": 18,
   "metadata": {},
   "outputs": [],
   "source": [
    "using Revise\n",
    "using Tenet\n",
    "using EinExprs\n",
    "using Reactant\n",
    "using AbstractTrees\n",
    "using Random"
   ]
  },
  {
   "cell_type": "code",
   "execution_count": 2,
   "metadata": {},
   "outputs": [
    {
     "data": {
      "text/plain": [
       "TensorNetwork (#tensors=15, #inds=22)"
      ]
     },
     "metadata": {},
     "output_type": "display_data"
    }
   ],
   "source": [
    "Random.seed!(0)\n",
    "tn = rand(TensorNetwork, 15, 3; dim=(16,16))"
   ]
  },
  {
   "cell_type": "code",
   "execution_count": 3,
   "metadata": {},
   "outputs": [
    {
     "data": {
      "text/plain": [
       "SizedEinExpr{Symbol}(EinExpr{Symbol}(Symbol[], EinExpr{Symbol}[EinExpr{Symbol}([:R], EinExpr{Symbol}[EinExpr{Symbol}([:K], EinExpr{Symbol}[]), EinExpr{Symbol}([:R, :K], EinExpr{Symbol}[])]), EinExpr{Symbol}([:R], EinExpr{Symbol}[EinExpr{Symbol}([:G, :N, :R], EinExpr{Symbol}[]), EinExpr{Symbol}([:G, :N], EinExpr{Symbol}[EinExpr{Symbol}([:H, :Q, :N], EinExpr{Symbol}[]), EinExpr{Symbol}([:H, :Q, :G], EinExpr{Symbol}[EinExpr{Symbol}([:C, :F, :Q], EinExpr{Symbol}[]), EinExpr{Symbol}([:H, :C, :F, :G], EinExpr{Symbol}[EinExpr{Symbol}([:D, :H, :O, :C], EinExpr{Symbol}[]), EinExpr{Symbol}([:D, :O, :F, :G], EinExpr{Symbol}[EinExpr{Symbol}([:B, :D, :F, :J], EinExpr{Symbol}[EinExpr{Symbol}([:B, :D, :F, :V], EinExpr{Symbol}[]), EinExpr{Symbol}([:V, :J], EinExpr{Symbol}[EinExpr{Symbol}([:P, :J], EinExpr{Symbol}[]), EinExpr{Symbol}([:V, :P], EinExpr{Symbol}[EinExpr{Symbol}([:E], EinExpr{Symbol}[]), EinExpr{Symbol}([:E, :V, :P], EinExpr{Symbol}[])])])]), EinExpr{Symbol}([:B, :O, :G, :J], EinExpr{Symbol}[EinExpr{Symbol}([:O, :G, :I, :U], EinExpr{Symbol}[]), EinExpr{Symbol}([:B, :I, :U, :J], EinExpr{Symbol}[EinExpr{Symbol}([:M, :U, :T, :J], EinExpr{Symbol}[]), EinExpr{Symbol}([:B, :M, :I, :T], EinExpr{Symbol}[EinExpr{Symbol}([:B, :S, :M, :A], EinExpr{Symbol}[]), EinExpr{Symbol}([:S, :A, :I, :T], EinExpr{Symbol}[EinExpr{Symbol}([:A, :I, :L], EinExpr{Symbol}[]), EinExpr{Symbol}([:S, :L, :T], EinExpr{Symbol}[])])])])])])])])])])]), Dict(:F => 16, :D => 16, :B => 16, :V => 16, :K => 16, :S => 16, :E => 16, :N => 16, :M => 16, :A => 16…))"
      ]
     },
     "metadata": {},
     "output_type": "display_data"
    }
   ],
   "source": [
    "path = einexpr(tn; optimizer=Exhaustive())"
   ]
  },
  {
   "cell_type": "code",
   "execution_count": 4,
   "metadata": {},
   "outputs": [
    {
     "data": {
      "text/plain": [
       "4"
      ]
     },
     "metadata": {},
     "output_type": "display_data"
    }
   ],
   "source": [
    "maximum(ndims, Branches(path))"
   ]
  },
  {
   "cell_type": "code",
   "execution_count": 5,
   "metadata": {},
   "outputs": [
    {
     "data": {
      "text/plain": [
       "65536"
      ]
     },
     "metadata": {},
     "output_type": "display_data"
    }
   ],
   "source": [
    "maximum(length, Branches(path))"
   ]
  },
  {
   "cell_type": "code",
   "execution_count": 6,
   "metadata": {},
   "outputs": [
    {
     "data": {
      "text/plain": [
       "7.940067535122738678444270654298377812457104636982098412933015342439109112833246"
      ]
     },
     "metadata": {},
     "output_type": "display_data"
    }
   ],
   "source": [
    "log10(mapreduce(flops, +, Branches(path)))"
   ]
  },
  {
   "cell_type": "code",
   "execution_count": 7,
   "metadata": {},
   "outputs": [
    {
     "data": {
      "text/plain": [
       "quote\n",
       "    \u001b[90m#= /home/bsc/bsc021106/Tenet.jl/src/Compiler.jl:92 =#\u001b[39m\n",
       "    function var\"##contract_compiled#225\"(ssa1::Tensor, ssa2::Tensor, ssa3::Tensor, ssa4::Tensor, ssa5::Tensor, ssa6::Tensor, ssa7::Tensor, ssa8::Tensor, ssa9::Tensor, ssa10::Tensor, ssa11::Tensor, ssa12::Tensor, ssa13::Tensor, ssa14::Tensor, ssa15::Tensor)\n",
       "        \u001b[90m#= /home/bsc/bsc021106/Tenet.jl/src/Compiler.jl:92 =#\u001b[39m\n",
       "        \u001b[90m#= /home/bsc/bsc021106/Tenet.jl/src/Compiler.jl:93 =#\u001b[39m\n",
       "        ssa16 = contract(ssa1, ssa2)\n",
       "        ssa17 = contract(ssa9, ssa10)\n",
       "        ssa18 = contract(ssa8, ssa17)\n",
       "        ssa19 = contract(ssa7, ssa18)\n",
       "        ssa20 = contract(ssa14, ssa15)\n",
       "        ssa21 = contract(ssa13, ssa20)\n",
       "        ssa22 = contract(ssa12, ssa21)\n",
       "        ssa23 = contract(ssa11, ssa22)\n",
       "        ssa24 = contract(ssa19, ssa23)\n",
       "        ssa25 = contract(ssa6, ssa24)\n",
       "        ssa26 = contract(ssa5, ssa25)\n",
       "        ssa27 = contract(ssa4, ssa26)\n",
       "        ssa28 = contract(ssa3, ssa27)\n",
       "        ssa29 = contract(ssa16, ssa28)\n",
       "        \u001b[90m#= /home/bsc/bsc021106/Tenet.jl/src/Compiler.jl:94 =#\u001b[39m\n",
       "        return ssa29\n",
       "    end\n",
       "    \u001b[90m#= /home/bsc/bsc021106/Tenet.jl/src/Compiler.jl:97 =#\u001b[39m\n",
       "    function var\"##contract_compiled#225\"(ssa1, ssa2, ssa3, ssa4, ssa5, ssa6, ssa7, ssa8, ssa9, ssa10, ssa11, ssa12, ssa13, ssa14, ssa15)\n",
       "        \u001b[90m#= /home/bsc/bsc021106/Tenet.jl/src/Compiler.jl:97 =#\u001b[39m\n",
       "        \u001b[90m#= /home/bsc/bsc021106/Tenet.jl/src/Compiler.jl:98 =#\u001b[39m\n",
       "        ssa1 = Tensor(ssa1, [:K])\n",
       "        ssa2 = Tensor(ssa2, [:R, :K])\n",
       "        ssa3 = Tensor(ssa3, [:G, :N, :R])\n",
       "        ssa4 = Tensor(ssa4, [:H, :Q, :N])\n",
       "        ssa5 = Tensor(ssa5, [:C, :F, :Q])\n",
       "        ssa6 = Tensor(ssa6, [:D, :H, :O, :C])\n",
       "        ssa7 = Tensor(ssa7, [:B, :D, :F, :V])\n",
       "        ssa8 = Tensor(ssa8, [:P, :J])\n",
       "        ssa9 = Tensor(ssa9, [:E])\n",
       "        ssa10 = Tensor(ssa10, [:E, :V, :P])\n",
       "        ssa11 = Tensor(ssa11, [:O, :G, :I, :U])\n",
       "        ssa12 = Tensor(ssa12, [:M, :U, :T, :J])\n",
       "        ssa13 = Tensor(ssa13, [:B, :S, :M, :A])\n",
       "        ssa14 = Tensor(ssa14, [:A, :I, :L])\n",
       "        ssa15 = Tensor(ssa15, [:S, :L, :T])\n",
       "        \u001b[90m#= /home/bsc/bsc021106/Tenet.jl/src/Compiler.jl:104 =#\u001b[39m\n",
       "        return var\"##contract_compiled#225\"(ssa1, ssa2, ssa3, ssa4, ssa5, ssa6, ssa7, ssa8, ssa9, ssa10, ssa11, ssa12, ssa13, ssa14, ssa15)\n",
       "    end\n",
       "end"
      ]
     },
     "metadata": {},
     "output_type": "display_data"
    }
   ],
   "source": [
    "expr = Tenet.codegen(Val(:outplace), path.path)"
   ]
  },
  {
   "cell_type": "code",
   "execution_count": 8,
   "metadata": {},
   "outputs": [
    {
     "data": {
      "text/plain": [
       "##contract_compiled#225 (generic function with 2 methods)"
      ]
     },
     "metadata": {},
     "output_type": "display_data"
    }
   ],
   "source": [
    "f = @eval $expr"
   ]
  },
  {
   "cell_type": "code",
   "execution_count": 9,
   "metadata": {},
   "outputs": [],
   "source": [
    "ts = [tn[head(leaf)...] for leaf in Leaves(path)];"
   ]
  },
  {
   "cell_type": "code",
   "execution_count": 10,
   "metadata": {},
   "outputs": [
    {
     "name": "stdout",
     "output_type": "stream",
     "text": [
      "  0.470928 seconds (2.79 k allocations: 9.386 MiB)\n"
     ]
    },
    {
     "data": {
      "text/plain": [
       "0-dimensional Tensor{Float64, 0, Array{Float64, 0}}:\n",
       "5.991293430814615e21"
      ]
     },
     "metadata": {},
     "output_type": "display_data"
    }
   ],
   "source": [
    "# warm up\n",
    "f(ts...)\n",
    "\n",
    "@time f(ts...)"
   ]
  },
  {
   "cell_type": "code",
   "execution_count": 11,
   "metadata": {},
   "outputs": [
    {
     "data": {
      "text/plain": [
       "#109 (generic function with 1 method)"
      ]
     },
     "metadata": {},
     "output_type": "display_data"
    }
   ],
   "source": [
    "ts′ = [Tensor(Reactant.ConcreteRArray(parent(tensor)), inds(tensor)) for tensor in ts]\n",
    "g = Reactant.compile(f, Tuple(ts′))"
   ]
  },
  {
   "cell_type": "code",
   "execution_count": 12,
   "metadata": {},
   "outputs": [
    {
     "name": "stdout",
     "output_type": "stream",
     "text": [
      "  0.003124 seconds (6 allocations: 208 bytes)\n"
     ]
    },
    {
     "data": {
      "text/plain": [
       "0-dimensional Tensor{Float64, 0, Reactant.ConcreteRArray{Float64, (), 0}}:\n",
       "5.991293430814615e21"
      ]
     },
     "metadata": {},
     "output_type": "display_data"
    }
   ],
   "source": [
    "# warm up\n",
    "g(ts′...)\n",
    "\n",
    "@time x = g(ts′...)"
   ]
  },
  {
   "cell_type": "code",
   "execution_count": 13,
   "metadata": {},
   "outputs": [
    {
     "data": {
      "text/plain": [
       "0-dimensional Tensor{Float64, 0, Reactant.ConcreteRArray{Float64, (), 0}}:\n",
       "5.991293430814615e21"
      ]
     },
     "metadata": {},
     "output_type": "display_data"
    }
   ],
   "source": [
    "x"
   ]
  },
  {
   "cell_type": "code",
   "execution_count": 17,
   "metadata": {},
   "outputs": [],
   "source": []
  }
 ],
 "metadata": {
  "kernelspec": {
   "display_name": "Julia 1.10.0",
   "language": "julia",
   "name": "julia-1.10"
  },
  "language_info": {
   "file_extension": ".jl",
   "mimetype": "application/julia",
   "name": "julia",
   "version": "1.10.0"
  }
 },
 "nbformat": 4,
 "nbformat_minor": 2
}
